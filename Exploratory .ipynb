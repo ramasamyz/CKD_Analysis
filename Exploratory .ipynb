{
 "metadata": {
  "name": "",
  "signature": "sha256:23f5e8899fd8a4b4d8a90ea9a1760ffa0ca9a714096e1e7efe6e451445639538"
 },
 "nbformat": 3,
 "nbformat_minor": 0,
 "worksheets": [
  {
   "cells": [
    {
     "cell_type": "code",
     "collapsed": false,
     "input": [
      "import pandas as pd;\n",
      "import matplotlib.pyplot as plt\n",
      "%matplotlib inline\n",
      "import time\n",
      "from sklearn import hmm\n",
      "import numpy as np\n",
      "import warnings\n",
      "warnings.filterwarnings('ignore')"
     ],
     "language": "python",
     "metadata": {},
     "outputs": [],
     "prompt_number": 1
    },
    {
     "cell_type": "code",
     "collapsed": false,
     "input": [
      "import psycopg2\n"
     ],
     "language": "python",
     "metadata": {},
     "outputs": [],
     "prompt_number": 2
    },
    {
     "cell_type": "markdown",
     "metadata": {},
     "source": [
      "####WARNING  Running with volume of data can crash the session if run on browser"
     ]
    },
    {
     "cell_type": "markdown",
     "metadata": {},
     "source": [
      "##Data Extraction and parsing##"
     ]
    },
    {
     "cell_type": "markdown",
     "metadata": {},
     "source": [
      "1. Loading data (creatine value sampled for a person)from postgres using pandas there by creating pandas series.\n",
      "2. Using pandas time series functionality to resample/ normalize\n",
      "3. get a overview using pandas visualization.\n",
      "4. observation sequence is parsed into a list for every subject."
     ]
    },
    {
     "cell_type": "code",
     "collapsed": false,
     "input": [
      "conn_string = \"host='localhost' port='5433' dbname='postgres' user='postgres' password='postgres'\""
     ],
     "language": "python",
     "metadata": {},
     "outputs": [],
     "prompt_number": 3
    },
    {
     "cell_type": "code",
     "collapsed": false,
     "input": [
      "conn = psycopg2.connect(conn_string)"
     ],
     "language": "python",
     "metadata": {},
     "outputs": [],
     "prompt_number": 4
    },
    {
     "cell_type": "code",
     "collapsed": false,
     "input": [
      "df_cdr_person = pd.read_sql(\"SELECT * from cdr_person limit 10\", conn)"
     ],
     "language": "python",
     "metadata": {},
     "outputs": [],
     "prompt_number": 5
    },
    {
     "cell_type": "code",
     "collapsed": false,
     "input": [
      "df_cdr_lab_result = []\n",
      "\n",
      "for i in range(0,len(df_cdr_person)):\n",
      "    data = pd.read_sql(\"SELECT resultdate,resultvaluenum, valuename from cdr_lab_result where idperson  = {0} and valuename  like '%CR%'\".format(df_cdr_person.iloc[i]['idperson']), conn)\n",
      "    df_cdr_lab_result.append(data)\n",
      "    "
     ],
     "language": "python",
     "metadata": {},
     "outputs": [],
     "prompt_number": 6
    },
    {
     "cell_type": "code",
     "collapsed": false,
     "input": [
      "#print df_cdr_lab_result[0]#.pop('resultdate')"
     ],
     "language": "python",
     "metadata": {},
     "outputs": [],
     "prompt_number": 7
    },
    {
     "cell_type": "code",
     "collapsed": false,
     "input": [
      "#make date as index for pandas time series capability\n",
      "for i in range(0,len(df_cdr_lab_result)):\n",
      "    df_cdr_lab_result[i].index = pd.to_datetime(df_cdr_lab_result[i].pop('resultdate'))\n"
     ],
     "language": "python",
     "metadata": {},
     "outputs": [],
     "prompt_number": 8
    },
    {
     "cell_type": "code",
     "collapsed": false,
     "input": [
      "#forward fill values (averaged)sampled at 30 days\n",
      "for i in range(0,len(df_cdr_lab_result)):\n",
      "    df_cdr_lab_result[i] = df_cdr_lab_result[i].resample('30D', fill_method='ffill')\n",
      "\n",
      "\n"
     ],
     "language": "python",
     "metadata": {},
     "outputs": [],
     "prompt_number": 9
    },
    {
     "cell_type": "code",
     "collapsed": false,
     "input": [
      "\n",
      "final = []"
     ],
     "language": "python",
     "metadata": {},
     "outputs": [],
     "prompt_number": 1
    },
    {
     "cell_type": "code",
     "collapsed": false,
     "input": [
      "    for i in range(0,len(df_cdr_lab_result)):\n",
      "        final.append(df_cdr_lab_result[i]['resultvaluenum'].tolist())"
     ],
     "language": "python",
     "metadata": {},
     "outputs": [],
     "prompt_number": 12
    },
    {
     "cell_type": "markdown",
     "metadata": {},
     "source": [
      "## Building Model for clustering ##"
     ]
    },
    {
     "cell_type": "markdown",
     "metadata": {},
     "source": [
      "0. Using GHMM package python\n",
      "1. Building Emission sequence for different subjects.\n",
      "2. Training  HMM models for every subject with fixed hidden stages \n",
      "3. prior probility/Transitional probability are intiated to heuristic\n",
      "4. Finding log likelihood between different subjects(creates n^2 matrix)\n",
      "5. agglomerative clustering using log likelihood as similarity between subjects."
     ]
    },
    {
     "cell_type": "code",
     "collapsed": false,
     "input": [
      "import ghmm\n"
     ],
     "language": "python",
     "metadata": {},
     "outputs": [],
     "prompt_number": 13
    },
    {
     "cell_type": "code",
     "collapsed": false,
     "input": [
      "#m = help(ghmm.HMM)\n",
      "alph = ghmm.Float()\n",
      "ss = ghmm.SequenceSet(alph,final)\n",
      "F = ghmm.Float()\n",
      "a = [[0.6,0.37,0.01,0.01,0.01],[0.3,0.4,0.297,0.001,0.002],[0.01,0.3,0.4,0.28,0.01],[0.01,0.01,0.28,0.4,0.3],[0.005,0.005,0.01,0.4,0.58]]\n",
      "B = [[0.9,1],\n",
      "     [2.3,0.9], \n",
      "     [3.4,0.9],\n",
      "     [5,1.4],\n",
      "     [7, 3]]\n",
      "\n",
      "pi = [1.0/5] * 5\n",
      "#model = ghmm.HMMFromMatrices(F,ghmm.GaussianDistribution(F), a, B, pi)\n"
     ],
     "language": "python",
     "metadata": {},
     "outputs": [],
     "prompt_number": 14
    },
    {
     "cell_type": "code",
     "collapsed": false,
     "input": [
      "es = []\n",
      "for i in range(0,len(final)):\n",
      "    es.append(ghmm.EmissionSequence(alph,final[i]))"
     ],
     "language": "python",
     "metadata": {},
     "outputs": [],
     "prompt_number": 15
    },
    {
     "cell_type": "code",
     "collapsed": false,
     "input": [
      "models = []\n",
      "for i in range(0,len(es)):\n",
      "    model = ghmm.HMMFromMatrices(F,ghmm.GaussianDistribution(F), a, B, pi)\n",
      "    model.baumWelch(es[i])\n",
      "    models.append(model)"
     ],
     "language": "python",
     "metadata": {},
     "outputs": [],
     "prompt_number": 16
    },
    {
     "cell_type": "code",
     "collapsed": false,
     "input": [
      "N = 9\n",
      "lhood= np.zeros([N,N])\n",
      "for i in range(0,N):\n",
      "    for j in range(0,N):\n",
      "        if (i != j):\n",
      "            lhood[i][j] = models[i].loglikelihood(es[j])\n",
      "\n",
      "lhood = (lhood + lhood.T)/2"
     ],
     "language": "python",
     "metadata": {},
     "outputs": [
      {
       "output_type": "stream",
       "stream": "stderr",
       "text": [
        "GHMM ghmm.py:3746 - forward returned -1: Sequence 0 cannot be build.\n"
       ]
      },
      {
       "output_type": "stream",
       "stream": "stderr",
       "text": [
        "WARNING:GHMM:forward returned -1: Sequence 0 cannot be build.\n"
       ]
      },
      {
       "output_type": "stream",
       "stream": "stderr",
       "text": [
        "GHMM ghmm.py:3746 - forward returned -1: Sequence 0 cannot be build.\n"
       ]
      },
      {
       "output_type": "stream",
       "stream": "stderr",
       "text": [
        "WARNING:GHMM:forward returned -1: Sequence 0 cannot be build.\n"
       ]
      },
      {
       "output_type": "stream",
       "stream": "stderr",
       "text": [
        "GHMM ghmm.py:3746 - forward returned -1: Sequence 0 cannot be build.\n"
       ]
      },
      {
       "output_type": "stream",
       "stream": "stderr",
       "text": [
        "WARNING:GHMM:forward returned -1: Sequence 0 cannot be build.\n"
       ]
      },
      {
       "output_type": "stream",
       "stream": "stderr",
       "text": [
        "GHMM ghmm.py:3746 - forward returned -1: Sequence 0 cannot be build.\n"
       ]
      },
      {
       "output_type": "stream",
       "stream": "stderr",
       "text": [
        "WARNING:GHMM:forward returned -1: Sequence 0 cannot be build.\n"
       ]
      },
      {
       "output_type": "stream",
       "stream": "stderr",
       "text": [
        "GHMM ghmm.py:3746 - forward returned -1: Sequence 0 cannot be build.\n"
       ]
      },
      {
       "output_type": "stream",
       "stream": "stderr",
       "text": [
        "WARNING:GHMM:forward returned -1: Sequence 0 cannot be build.\n"
       ]
      },
      {
       "output_type": "stream",
       "stream": "stderr",
       "text": [
        "GHMM ghmm.py:3746 - forward returned -1: Sequence 0 cannot be build.\n"
       ]
      },
      {
       "output_type": "stream",
       "stream": "stderr",
       "text": [
        "WARNING:GHMM:forward returned -1: Sequence 0 cannot be build.\n"
       ]
      },
      {
       "output_type": "stream",
       "stream": "stderr",
       "text": [
        "GHMM ghmm.py:3746 - forward returned -1: Sequence 0 cannot be build.\n"
       ]
      },
      {
       "output_type": "stream",
       "stream": "stderr",
       "text": [
        "WARNING:GHMM:forward returned -1: Sequence 0 cannot be build.\n"
       ]
      },
      {
       "output_type": "stream",
       "stream": "stderr",
       "text": [
        "GHMM ghmm.py:3746 - forward returned -1: Sequence 0 cannot be build.\n"
       ]
      },
      {
       "output_type": "stream",
       "stream": "stderr",
       "text": [
        "WARNING:GHMM:forward returned -1: Sequence 0 cannot be build.\n"
       ]
      },
      {
       "output_type": "stream",
       "stream": "stderr",
       "text": [
        "GHMM ghmm.py:3746 - forward returned -1: Sequence 0 cannot be build.\n"
       ]
      },
      {
       "output_type": "stream",
       "stream": "stderr",
       "text": [
        "WARNING:GHMM:forward returned -1: Sequence 0 cannot be build.\n"
       ]
      },
      {
       "output_type": "stream",
       "stream": "stderr",
       "text": [
        "GHMM ghmm.py:3746 - forward returned -1: Sequence 0 cannot be build.\n"
       ]
      },
      {
       "output_type": "stream",
       "stream": "stderr",
       "text": [
        "WARNING:GHMM:forward returned -1: Sequence 0 cannot be build.\n"
       ]
      },
      {
       "output_type": "stream",
       "stream": "stderr",
       "text": [
        "GHMM ghmm.py:3746 - forward returned -1: Sequence 0 cannot be build.\n"
       ]
      },
      {
       "output_type": "stream",
       "stream": "stderr",
       "text": [
        "WARNING:GHMM:forward returned -1: Sequence 0 cannot be build.\n"
       ]
      },
      {
       "output_type": "stream",
       "stream": "stderr",
       "text": [
        "GHMM ghmm.py:3746 - forward returned -1: Sequence 0 cannot be build.\n"
       ]
      },
      {
       "output_type": "stream",
       "stream": "stderr",
       "text": [
        "WARNING:GHMM:forward returned -1: Sequence 0 cannot be build.\n"
       ]
      },
      {
       "output_type": "stream",
       "stream": "stderr",
       "text": [
        "GHMM ghmm.py:3746 - forward returned -1: Sequence 0 cannot be build.\n"
       ]
      },
      {
       "output_type": "stream",
       "stream": "stderr",
       "text": [
        "WARNING:GHMM:forward returned -1: Sequence 0 cannot be build.\n"
       ]
      },
      {
       "output_type": "stream",
       "stream": "stderr",
       "text": [
        "GHMM ghmm.py:3746 - forward returned -1: Sequence 0 cannot be build.\n"
       ]
      },
      {
       "output_type": "stream",
       "stream": "stderr",
       "text": [
        "WARNING:GHMM:forward returned -1: Sequence 0 cannot be build.\n"
       ]
      },
      {
       "output_type": "stream",
       "stream": "stderr",
       "text": [
        "GHMM ghmm.py:3746 - forward returned -1: Sequence 0 cannot be build.\n"
       ]
      },
      {
       "output_type": "stream",
       "stream": "stderr",
       "text": [
        "WARNING:GHMM:forward returned -1: Sequence 0 cannot be build.\n"
       ]
      }
     ],
     "prompt_number": 17
    },
    {
     "cell_type": "markdown",
     "metadata": {},
     "source": [
      "##Clustering##"
     ]
    },
    {
     "cell_type": "markdown",
     "metadata": {},
     "source": [
      "1. Writing the matrix as csv using pandas\n",
      "2. Every row indicates the likelihood of subject with other subjects.\n",
      "3. Agglomerative clustering is performed using Hadoop Map-Reduce."
     ]
    },
    {
     "cell_type": "code",
     "collapsed": false,
     "input": [
      "import pandas as pd"
     ],
     "language": "python",
     "metadata": {},
     "outputs": [],
     "prompt_number": 18
    },
    {
     "cell_type": "code",
     "collapsed": false,
     "input": [
      "df = pd.DataFrame(lhood)"
     ],
     "language": "python",
     "metadata": {},
     "outputs": [],
     "prompt_number": 19
    },
    {
     "cell_type": "code",
     "collapsed": false,
     "input": [
      "# writing the matrix to output for map-reduce to compute closest cluster\n",
      "df.to_csv(\"output.csv\", header = False);"
     ],
     "language": "python",
     "metadata": {},
     "outputs": [],
     "prompt_number": 20
    },
    {
     "cell_type": "markdown",
     "metadata": {},
     "source": [
      "## Sample Clustering not using map reduce ##"
     ]
    },
    {
     "cell_type": "code",
     "collapsed": false,
     "input": [
      "clusters = np.arange(0,N)"
     ],
     "language": "python",
     "metadata": {},
     "outputs": [
      {
       "ename": "NameError",
       "evalue": "name 'np' is not defined",
       "output_type": "pyerr",
       "traceback": [
        "\u001b[1;31m---------------------------------------------------------------------------\u001b[0m\n\u001b[1;31mNameError\u001b[0m                                 Traceback (most recent call last)",
        "\u001b[1;32m<ipython-input-2-c50dd6a91a28>\u001b[0m in \u001b[0;36m<module>\u001b[1;34m()\u001b[0m\n\u001b[1;32m----> 1\u001b[1;33m \u001b[0mclusters\u001b[0m \u001b[1;33m=\u001b[0m \u001b[0mnp\u001b[0m\u001b[1;33m.\u001b[0m\u001b[0marange\u001b[0m\u001b[1;33m(\u001b[0m\u001b[1;36m0\u001b[0m\u001b[1;33m,\u001b[0m\u001b[0mN\u001b[0m\u001b[1;33m)\u001b[0m\u001b[1;33m\u001b[0m\u001b[0m\n\u001b[0m",
        "\u001b[1;31mNameError\u001b[0m: name 'np' is not defined"
       ]
      }
     ],
     "prompt_number": 2
    },
    {
     "cell_type": "code",
     "collapsed": false,
     "input": [
      "# Agglomerative farthest point clustering using few data points\n",
      "import sys\n",
      "print set(clusters)\n",
      "\n",
      "def getFarthestDistance(start_cluster,end_cluster,lhood,clusters):\n",
      "    minDistance = sys.maxint\n",
      "    for a in np.nditer(np.where(clusters == start_cluster)):\n",
      "        for b in np.nditer(np.where(clusters == end_cluster)):\n",
      "            minDistance = min(lhood[a][b],minDistance)\n",
      "    return minDistance"
     ],
     "language": "python",
     "metadata": {},
     "outputs": [
      {
       "output_type": "stream",
       "stream": "stdout",
       "text": [
        "set([0, 1, 2, 3, 4, 5, 6, 7, 8])\n"
       ]
      }
     ],
     "prompt_number": 22
    },
    {
     "cell_type": "code",
     "collapsed": false,
     "input": [
      "k = 5\n",
      "x = N - k\n",
      "for i in range(0,x):\n",
      "    max_likeli = -1 * sys.maxint\n",
      "    start = 0\n",
      "    end = 0\n",
      "    for start_cluster in set(clusters):\n",
      "        for end_cluster in set(clusters):\n",
      "            if (start_cluster != end_cluster):\n",
      "                distance = getFarthestDistance(start_cluster,end_cluster,lhood,clusters)\n",
      "                if (distance > max_likeli):\n",
      "                    distance = max_likeli\n",
      "                    start = start_cluster\n",
      "                    end = end_cluster\n",
      "    clusters[np.where(clusters == start)] = end\n",
      "    print clusters"
     ],
     "language": "python",
     "metadata": {},
     "outputs": [
      {
       "output_type": "stream",
       "stream": "stdout",
       "text": [
        "[0 1 2 3 4 5 6 7 7]\n",
        "[0 1 2 3 4 5 6 6 6]\n",
        "[0 1 2 3 4 5 5 5 5]\n",
        "[0 1 2 3 4 2 2 2 2]\n"
       ]
      }
     ],
     "prompt_number": 23
    },
    {
     "cell_type": "code",
     "collapsed": false,
     "input": [
      "import matplotlib.pyplot as plt\n",
      "fig, axes = plt.subplots(nrows=2, ncols= 5)\n",
      "fig.set_figheight(18)\n",
      "fig.set_figwidth(19)\n",
      "for i in range(0,len(clusters)):\n",
      "    row = i / 5\n",
      "    column = i % 5\n",
      "    df_cdr_lab_result[i].resultvaluenum.plot(ax =axes[row,column],style='r-o')\n",
      "    axes[row,column].set_title(\"Point {0} in cluster {1}\".format(i,clusters[i]))\n",
      "    "
     ],
     "language": "python",
     "metadata": {},
     "outputs": [
      {
       "metadata": {},
       "output_type": "display_data",
       "png": "[encoded data removed]",
       "text": [
        "<matplotlib.figure.Figure at 0x7f5023ceb190>"
       ]
      }
     ],
     "prompt_number": 24
    },
    {
     "cell_type": "markdown",
     "metadata": {},
     "source": [
      "## Reading clustered data from Map-Reduce programme"
     ]
    },
    {
     "cell_type": "code",
     "collapsed": false,
     "input": [
      "num = 10\n",
      "rep = {}\n",
      "def parent(v):\n",
      "    if rep[v] == v:\n",
      "        return v\n",
      "    rep[v] = parent(rep[v])\n",
      "    return rep[v]\n"
     ],
     "language": "python",
     "metadata": {},
     "outputs": [],
     "prompt_number": 25
    },
    {
     "cell_type": "code",
     "collapsed": false,
     "input": [
      "output_file = open('/home/zephyr/part-r-00000','r');\n",
      "for line in output_file:\n",
      "    u,v = line.split()\n",
      "    u = int(u) - 1\n",
      "    v = int(v) - 1\n",
      "    # using disjoint data structure to maintain sets\n",
      "    if u not in rep:\n",
      "        rep[u] = u\n",
      "    if v not in rep:\n",
      "        rep[v] = v\n",
      "    rep[parent(v)] = parent(u)\n",
      "        \n",
      "    "
     ],
     "language": "python",
     "metadata": {},
     "outputs": [],
     "prompt_number": 26
    },
    {
     "cell_type": "code",
     "collapsed": false,
     "input": [
      "cluster = []\n",
      "for i in range(0, num):\n",
      "     if i not in rep.keys():\n",
      "        rep[i] = i\n",
      "        cluster.append(i)\n",
      "     else:\n",
      "        cluster.append(parent(i))"
     ],
     "language": "python",
     "metadata": {},
     "outputs": [],
     "prompt_number": 27
    },
    {
     "cell_type": "code",
     "collapsed": false,
     "input": [
      "import matplotlib.pyplot as plt\n",
      "fig, axes = plt.subplots(nrows=2, ncols= 5)\n",
      "fig.set_figheight(18)\n",
      "fig.set_figwidth(19)\n",
      "for i in range(0,10):\n",
      "    row = i / 5\n",
      "    column = i % 5\n",
      "    df_cdr_lab_result[i].resultvaluenum.plot(ax =axes[row,column],style='r-o')\n",
      "    axes[row,column].set_title(\"Point {0} in cluster {1}\".format(i,cluster[i]))"
     ],
     "language": "python",
     "metadata": {},
     "outputs": [
      {
       "ename": "NameError",
       "evalue": "name 'df_cdr_lab_result' is not defined",
       "output_type": "pyerr",
       "traceback": [
        "\u001b[1;31m---------------------------------------------------------------------------\u001b[0m\n\u001b[1;31mNameError\u001b[0m                                 Traceback (most recent call last)",
        "\u001b[1;32m<ipython-input-1-27e2ad439bd2>\u001b[0m in \u001b[0;36m<module>\u001b[1;34m()\u001b[0m\n\u001b[0;32m      6\u001b[0m     \u001b[0mrow\u001b[0m \u001b[1;33m=\u001b[0m \u001b[0mi\u001b[0m \u001b[1;33m/\u001b[0m \u001b[1;36m5\u001b[0m\u001b[1;33m\u001b[0m\u001b[0m\n\u001b[0;32m      7\u001b[0m     \u001b[0mcolumn\u001b[0m \u001b[1;33m=\u001b[0m \u001b[0mi\u001b[0m \u001b[1;33m%\u001b[0m \u001b[1;36m5\u001b[0m\u001b[1;33m\u001b[0m\u001b[0m\n\u001b[1;32m----> 8\u001b[1;33m     \u001b[0mdf_cdr_lab_result\u001b[0m\u001b[1;33m[\u001b[0m\u001b[0mi\u001b[0m\u001b[1;33m]\u001b[0m\u001b[1;33m.\u001b[0m\u001b[0mresultvaluenum\u001b[0m\u001b[1;33m.\u001b[0m\u001b[0mplot\u001b[0m\u001b[1;33m(\u001b[0m\u001b[0max\u001b[0m \u001b[1;33m=\u001b[0m\u001b[0maxes\u001b[0m\u001b[1;33m[\u001b[0m\u001b[0mrow\u001b[0m\u001b[1;33m,\u001b[0m\u001b[0mcolumn\u001b[0m\u001b[1;33m]\u001b[0m\u001b[1;33m,\u001b[0m\u001b[0mstyle\u001b[0m\u001b[1;33m=\u001b[0m\u001b[1;34m'r-o'\u001b[0m\u001b[1;33m)\u001b[0m\u001b[1;33m\u001b[0m\u001b[0m\n\u001b[0m\u001b[0;32m      9\u001b[0m     \u001b[0maxes\u001b[0m\u001b[1;33m[\u001b[0m\u001b[0mrow\u001b[0m\u001b[1;33m,\u001b[0m\u001b[0mcolumn\u001b[0m\u001b[1;33m]\u001b[0m\u001b[1;33m.\u001b[0m\u001b[0mset_title\u001b[0m\u001b[1;33m(\u001b[0m\u001b[1;34m\"Point {0} in cluster {1}\"\u001b[0m\u001b[1;33m.\u001b[0m\u001b[0mformat\u001b[0m\u001b[1;33m(\u001b[0m\u001b[0mi\u001b[0m\u001b[1;33m,\u001b[0m\u001b[0mcluster\u001b[0m\u001b[1;33m[\u001b[0m\u001b[0mi\u001b[0m\u001b[1;33m]\u001b[0m\u001b[1;33m)\u001b[0m\u001b[1;33m)\u001b[0m\u001b[1;33m\u001b[0m\u001b[0m\n",
        "\u001b[1;31mNameError\u001b[0m: name 'df_cdr_lab_result' is not defined"
       ]
      }
     ],
     "prompt_number": 1
    },
    {
     "cell_type": "markdown",
     "metadata": {},
     "source": [
      "## Recomputing model From clustered data and computing error ##"
     ]
    },
    {
     "cell_type": "code",
     "collapsed": false,
     "input": [
      "clusters = cluster\n",
      "final_model = []\n",
      "p = np.zeros(len(set(clusters)))\n",
      "index = 0\n",
      "for cluster in set(clusters):\n",
      "    selected, = np.where(clusters == cluster)\n",
      "    samples_k = [final[i] for i in selected.tolist()]\n",
      "    p[index] = len(samples_k)* 1.0/N\n",
      "    ss_k = ghmm.SequenceSet(alph,samples_k) \n",
      "    model = ghmm.HMMFromMatrices(F,ghmm.GaussianDistribution(F), a, B, pi)\n",
      "    model.baumWelch(ss_k)\n",
      "    final_model.append(model)\n",
      "    index += 1\n"
     ],
     "language": "python",
     "metadata": {},
     "outputs": []
    },
    {
     "cell_type": "code",
     "collapsed": false,
     "input": [
      "m = len(pi)\n",
      "k = len(set(clusters))\n",
      "full_model_transition = np.zeros([m*k, m*k])\n",
      "\n",
      "emissions = []\n",
      "for i in range(0,k):\n",
      "    model = final_model[i]\n",
      "    emission = []\n",
      "    for j in range(0,m):\n",
      "        emission.append(model.getEmission(i))\n",
      "        for k in range(0,m):\n",
      "            full_model_transition[i*m + j, i*m + k] = model.getTransition(j,k)\n",
      "    emissions.append(emission)"
     ],
     "language": "python",
     "metadata": {},
     "outputs": []
    },
    {
     "cell_type": "code",
     "collapsed": false,
     "input": [
      "A = full_model_transition.tolist()\n",
      "print len(A)\n",
      "print len(A[0])\n",
      "\n",
      "P = [[i/5] * 5 for i in p.tolist()]\n",
      "P_f = [item for sublist in P for item in sublist]\n",
      "emissions_f = [item for sublist in emissions for item in sublist]\n",
      "#print emissions_f\n",
      "model_final = ghmm.HMMFromMatrices(F,ghmm.GaussianDistribution(F),A ,emissions_f, P_f)"
     ],
     "language": "python",
     "metadata": {},
     "outputs": []
    },
    {
     "cell_type": "code",
     "collapsed": false,
     "input": [
      "print model_final.loglikelihood(es[4])"
     ],
     "language": "python",
     "metadata": {},
     "outputs": []
    }
   ],
   "metadata": {}
  }
 ]
}